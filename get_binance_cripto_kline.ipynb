{
 "cells": [
  {
   "cell_type": "code",
   "execution_count": 1,
   "metadata": {},
   "outputs": [],
   "source": [
    "# import os\n",
    "from datetime import datetime, timedelta\n",
    "import pandas as pd\n",
    "import numpy as np\n",
    "from binance import Client"
   ]
  },
  {
   "cell_type": "code",
   "execution_count": 2,
   "metadata": {},
   "outputs": [],
   "source": [
    "client = Client()\n",
    "dict_symbols_price = client.get_all_tickers()\n",
    "df_symbols_price = pd.DataFrame(dict_symbols_price)\n",
    "list_symbols_binance = df_symbols_price['symbol'].to_list()"
   ]
  },
  {
   "cell_type": "code",
   "execution_count": 3,
   "metadata": {},
   "outputs": [],
   "source": [
    "def get_historical_klines_1d(symbol):\n",
    "\ttry:\n",
    "\t\tdf = pd.DataFrame(client.get_historical_klines(symbol, '1d', '3 years ago UTC'))\n",
    "\texcept ValueError as e:\n",
    "\t\tprint('Not symbol {}'.format(symbol))\n",
    "\t\tprint(e)\n",
    "\t\treturn pd.DataFrame()\n",
    "\tif df.empty:\n",
    "\t\treturn df\n",
    "\tdf = df[[0,4]]\n",
    "\tdf.columns = ['Timestamp', symbol]\n",
    "\tdf = df.set_index('Timestamp')\n",
    "\tdf = df.astype(float)\n",
    "\treturn df"
   ]
  },
  {
   "cell_type": "code",
   "execution_count": 4,
   "metadata": {},
   "outputs": [],
   "source": [
    "path_file_symbols = 'list_binance_cripto_symbol.csv'\n",
    "df_list_symbols = pd.read_csv(path_file_symbols, sep=';')\n",
    "symbols = df_list_symbols['symbol'].to_list()"
   ]
  },
  {
   "cell_type": "code",
   "execution_count": 5,
   "metadata": {},
   "outputs": [],
   "source": [
    "prices = []\n",
    "\n",
    "for symbol in symbols:\n",
    "\tif symbol in list_symbols_binance:\n",
    "\t\tprices.append(get_historical_klines_1d(symbol))\n",
    "\telse:\n",
    "\t\tprint(symbol)"
   ]
  },
  {
   "cell_type": "code",
   "execution_count": 6,
   "metadata": {},
   "outputs": [],
   "source": [
    "df = pd.concat(prices, sort=True, axis=1)"
   ]
  },
  {
   "cell_type": "code",
   "execution_count": 7,
   "metadata": {},
   "outputs": [],
   "source": [
    "files_name = 'all_cripto.csv'"
   ]
  },
  {
   "cell_type": "code",
   "execution_count": 4,
   "metadata": {},
   "outputs": [],
   "source": [
    "# df = pd.read_csv(files_name, sep=';', decimal=',')"
   ]
  },
  {
   "cell_type": "code",
   "execution_count": 8,
   "metadata": {},
   "outputs": [],
   "source": [
    "df.to_csv(files_name, sep=';', decimal=',')"
   ]
  },
  {
   "cell_type": "code",
   "execution_count": 11,
   "metadata": {},
   "outputs": [
    {
     "data": {
      "text/plain": [
       "datetime.datetime(2022, 3, 7, 3, 0)"
      ]
     },
     "execution_count": 11,
     "metadata": {},
     "output_type": "execute_result"
    }
   ],
   "source": [
    "datetime.fromtimestamp(int(df.index.max()/1000))"
   ]
  },
  {
   "cell_type": "code",
   "execution_count": 31,
   "metadata": {},
   "outputs": [],
   "source": [
    "start_date_ms = int(round(datetime(2019, 2, 1).timestamp() * 1000))\n",
    "end_date_ms = int(round(datetime(2022, 3, 5).timestamp() * 1000))"
   ]
  },
  {
   "cell_type": "code",
   "execution_count": 52,
   "metadata": {},
   "outputs": [],
   "source": [
    "df_time = df.loc[start_date_ms:]"
   ]
  },
  {
   "cell_type": "code",
   "execution_count": 32,
   "metadata": {},
   "outputs": [],
   "source": [
    "# df_time = df.loc[start_date_ms:end_date_ms]"
   ]
  },
  {
   "cell_type": "code",
   "execution_count": null,
   "metadata": {},
   "outputs": [],
   "source": [
    "df2 = df_time.iloc[-1]\n",
    "df_symbol_nan = df2[df2.isnull()==True]\n",
    "list_symbol_nan = df_symbol_nan.reset_index()['index'].to_list()\n",
    "df_time = df_time[df_time.columns.difference(list_symbol_nan)]"
   ]
  },
  {
   "cell_type": "code",
   "execution_count": 18,
   "metadata": {},
   "outputs": [],
   "source": [
    "from pypfopt import EfficientFrontier, risk_models, expected_returns, plotting"
   ]
  },
  {
   "cell_type": "code",
   "execution_count": 34,
   "metadata": {},
   "outputs": [],
   "source": [
    "mu = expected_returns.mean_historical_return(df_time, frequency=365)"
   ]
  },
  {
   "cell_type": "code",
   "execution_count": 44,
   "metadata": {},
   "outputs": [
    {
     "data": {
      "text/plain": [
       "BANDUSDT    -0.812264\n",
       "BATUSDT     -0.295956\n",
       "BCHUSDT     -0.413552\n",
       "BNBUSDT     -0.276832\n",
       "BNTUSDT     -0.997411\n",
       "BTCUSDT      0.380547\n",
       "CHZUSDT     -0.579768\n",
       "DOGEUSDT    -0.714719\n",
       "ENJUSDT     -0.736396\n",
       "ETHUSDT     -0.135909\n",
       "HOTUSDT     -0.699273\n",
       "LINKUSDT     3.305369\n",
       "LTCUSDT     -0.362977\n",
       "MATICUSDT    0.776570\n",
       "OMGUSDT     -0.779993\n",
       "RENUSDT     -0.286505\n",
       "XRPUSDT     -0.520946\n",
       "ZRXUSDT     -0.393309\n",
       "dtype: float64"
      ]
     },
     "execution_count": 44,
     "metadata": {},
     "output_type": "execute_result"
    }
   ],
   "source": [
    "mu"
   ]
  },
  {
   "cell_type": "code",
   "execution_count": 35,
   "metadata": {},
   "outputs": [
    {
     "name": "stderr",
     "output_type": "stream",
     "text": [
      "p:\\Project\\FI\\lib\\site-packages\\pypfopt\\risk_models.py:68: UserWarning: The covariance matrix is non positive semidefinite. Amending eigenvalues.\n",
      "  warnings.warn(\n"
     ]
    }
   ],
   "source": [
    "S = risk_models.sample_cov(df_time)"
   ]
  },
  {
   "cell_type": "code",
   "execution_count": 46,
   "metadata": {},
   "outputs": [
    {
     "data": {
      "text/html": [
       "<div>\n",
       "<style scoped>\n",
       "    .dataframe tbody tr th:only-of-type {\n",
       "        vertical-align: middle;\n",
       "    }\n",
       "\n",
       "    .dataframe tbody tr th {\n",
       "        vertical-align: top;\n",
       "    }\n",
       "\n",
       "    .dataframe thead th {\n",
       "        text-align: right;\n",
       "    }\n",
       "</style>\n",
       "<table border=\"1\" class=\"dataframe\">\n",
       "  <thead>\n",
       "    <tr style=\"text-align: right;\">\n",
       "      <th></th>\n",
       "      <th>BANDUSDT</th>\n",
       "      <th>BATUSDT</th>\n",
       "      <th>BCHUSDT</th>\n",
       "      <th>BNBUSDT</th>\n",
       "      <th>BNTUSDT</th>\n",
       "      <th>BTCUSDT</th>\n",
       "      <th>CHZUSDT</th>\n",
       "      <th>DOGEUSDT</th>\n",
       "      <th>ENJUSDT</th>\n",
       "      <th>ETHUSDT</th>\n",
       "      <th>HOTUSDT</th>\n",
       "      <th>LINKUSDT</th>\n",
       "      <th>LTCUSDT</th>\n",
       "      <th>MATICUSDT</th>\n",
       "      <th>OMGUSDT</th>\n",
       "      <th>RENUSDT</th>\n",
       "      <th>XRPUSDT</th>\n",
       "      <th>ZRXUSDT</th>\n",
       "    </tr>\n",
       "  </thead>\n",
       "  <tbody>\n",
       "    <tr>\n",
       "      <th>BANDUSDT</th>\n",
       "      <td>2.485259</td>\n",
       "      <td>0.817298</td>\n",
       "      <td>0.856468</td>\n",
       "      <td>0.774730</td>\n",
       "      <td>2.104856</td>\n",
       "      <td>0.540088</td>\n",
       "      <td>0.852552</td>\n",
       "      <td>0.423653</td>\n",
       "      <td>0.816694</td>\n",
       "      <td>0.739493</td>\n",
       "      <td>0.701340</td>\n",
       "      <td>0.651928</td>\n",
       "      <td>0.700700</td>\n",
       "      <td>0.997552</td>\n",
       "      <td>0.766716</td>\n",
       "      <td>0.848208</td>\n",
       "      <td>0.590320</td>\n",
       "      <td>0.756845</td>\n",
       "    </tr>\n",
       "    <tr>\n",
       "      <th>BATUSDT</th>\n",
       "      <td>0.817298</td>\n",
       "      <td>0.955419</td>\n",
       "      <td>0.989479</td>\n",
       "      <td>0.611143</td>\n",
       "      <td>1.627362</td>\n",
       "      <td>0.450508</td>\n",
       "      <td>0.796288</td>\n",
       "      <td>0.380935</td>\n",
       "      <td>0.662918</td>\n",
       "      <td>0.615394</td>\n",
       "      <td>0.521510</td>\n",
       "      <td>0.571571</td>\n",
       "      <td>0.603259</td>\n",
       "      <td>0.704511</td>\n",
       "      <td>0.646969</td>\n",
       "      <td>0.760284</td>\n",
       "      <td>0.510173</td>\n",
       "      <td>0.572923</td>\n",
       "    </tr>\n",
       "    <tr>\n",
       "      <th>BCHUSDT</th>\n",
       "      <td>0.856468</td>\n",
       "      <td>0.989479</td>\n",
       "      <td>1.663131</td>\n",
       "      <td>0.924659</td>\n",
       "      <td>2.350488</td>\n",
       "      <td>0.785874</td>\n",
       "      <td>0.965232</td>\n",
       "      <td>0.634285</td>\n",
       "      <td>0.846428</td>\n",
       "      <td>1.025221</td>\n",
       "      <td>0.860169</td>\n",
       "      <td>0.929391</td>\n",
       "      <td>1.054562</td>\n",
       "      <td>1.038786</td>\n",
       "      <td>1.089541</td>\n",
       "      <td>0.974778</td>\n",
       "      <td>0.846512</td>\n",
       "      <td>0.844809</td>\n",
       "    </tr>\n",
       "    <tr>\n",
       "      <th>BNBUSDT</th>\n",
       "      <td>0.774730</td>\n",
       "      <td>0.611143</td>\n",
       "      <td>0.924659</td>\n",
       "      <td>0.759076</td>\n",
       "      <td>1.556548</td>\n",
       "      <td>0.483058</td>\n",
       "      <td>0.748095</td>\n",
       "      <td>0.388526</td>\n",
       "      <td>0.583269</td>\n",
       "      <td>0.614714</td>\n",
       "      <td>0.536437</td>\n",
       "      <td>0.544178</td>\n",
       "      <td>0.597868</td>\n",
       "      <td>0.721869</td>\n",
       "      <td>0.638481</td>\n",
       "      <td>0.756458</td>\n",
       "      <td>0.479322</td>\n",
       "      <td>0.517735</td>\n",
       "    </tr>\n",
       "    <tr>\n",
       "      <th>BNTUSDT</th>\n",
       "      <td>2.104856</td>\n",
       "      <td>1.627362</td>\n",
       "      <td>2.350488</td>\n",
       "      <td>1.556548</td>\n",
       "      <td>4.177136</td>\n",
       "      <td>1.269336</td>\n",
       "      <td>2.005883</td>\n",
       "      <td>0.986022</td>\n",
       "      <td>1.659860</td>\n",
       "      <td>1.642116</td>\n",
       "      <td>1.499494</td>\n",
       "      <td>1.660715</td>\n",
       "      <td>1.571602</td>\n",
       "      <td>2.072825</td>\n",
       "      <td>1.754318</td>\n",
       "      <td>2.027288</td>\n",
       "      <td>1.353632</td>\n",
       "      <td>1.420384</td>\n",
       "    </tr>\n",
       "    <tr>\n",
       "      <th>BTCUSDT</th>\n",
       "      <td>0.540088</td>\n",
       "      <td>0.450508</td>\n",
       "      <td>0.785874</td>\n",
       "      <td>0.483058</td>\n",
       "      <td>1.269336</td>\n",
       "      <td>0.537040</td>\n",
       "      <td>0.621447</td>\n",
       "      <td>0.332114</td>\n",
       "      <td>0.429769</td>\n",
       "      <td>0.566103</td>\n",
       "      <td>0.434392</td>\n",
       "      <td>0.458974</td>\n",
       "      <td>0.539980</td>\n",
       "      <td>0.538658</td>\n",
       "      <td>0.571585</td>\n",
       "      <td>0.609101</td>\n",
       "      <td>0.432907</td>\n",
       "      <td>0.404845</td>\n",
       "    </tr>\n",
       "    <tr>\n",
       "      <th>CHZUSDT</th>\n",
       "      <td>0.852552</td>\n",
       "      <td>0.796288</td>\n",
       "      <td>0.965232</td>\n",
       "      <td>0.748095</td>\n",
       "      <td>2.005883</td>\n",
       "      <td>0.621447</td>\n",
       "      <td>2.056706</td>\n",
       "      <td>0.434377</td>\n",
       "      <td>0.775519</td>\n",
       "      <td>0.765888</td>\n",
       "      <td>0.677177</td>\n",
       "      <td>0.614415</td>\n",
       "      <td>0.712128</td>\n",
       "      <td>0.896551</td>\n",
       "      <td>0.793496</td>\n",
       "      <td>0.821505</td>\n",
       "      <td>0.652266</td>\n",
       "      <td>0.631695</td>\n",
       "    </tr>\n",
       "    <tr>\n",
       "      <th>DOGEUSDT</th>\n",
       "      <td>0.423653</td>\n",
       "      <td>0.380935</td>\n",
       "      <td>0.634285</td>\n",
       "      <td>0.388526</td>\n",
       "      <td>0.986022</td>\n",
       "      <td>0.332114</td>\n",
       "      <td>0.434377</td>\n",
       "      <td>0.340589</td>\n",
       "      <td>0.354230</td>\n",
       "      <td>0.422901</td>\n",
       "      <td>0.370692</td>\n",
       "      <td>0.387824</td>\n",
       "      <td>0.411037</td>\n",
       "      <td>0.398358</td>\n",
       "      <td>0.429683</td>\n",
       "      <td>0.420840</td>\n",
       "      <td>0.331735</td>\n",
       "      <td>0.349092</td>\n",
       "    </tr>\n",
       "    <tr>\n",
       "      <th>ENJUSDT</th>\n",
       "      <td>0.816694</td>\n",
       "      <td>0.662918</td>\n",
       "      <td>0.846428</td>\n",
       "      <td>0.583269</td>\n",
       "      <td>1.659860</td>\n",
       "      <td>0.429769</td>\n",
       "      <td>0.775519</td>\n",
       "      <td>0.354230</td>\n",
       "      <td>1.142890</td>\n",
       "      <td>0.588451</td>\n",
       "      <td>0.578098</td>\n",
       "      <td>0.525517</td>\n",
       "      <td>0.559081</td>\n",
       "      <td>0.825029</td>\n",
       "      <td>0.633826</td>\n",
       "      <td>0.763956</td>\n",
       "      <td>0.498108</td>\n",
       "      <td>0.526718</td>\n",
       "    </tr>\n",
       "    <tr>\n",
       "      <th>ETHUSDT</th>\n",
       "      <td>0.739493</td>\n",
       "      <td>0.615394</td>\n",
       "      <td>1.025221</td>\n",
       "      <td>0.614714</td>\n",
       "      <td>1.642116</td>\n",
       "      <td>0.566103</td>\n",
       "      <td>0.765888</td>\n",
       "      <td>0.422901</td>\n",
       "      <td>0.588451</td>\n",
       "      <td>0.763139</td>\n",
       "      <td>0.569911</td>\n",
       "      <td>0.608870</td>\n",
       "      <td>0.688284</td>\n",
       "      <td>0.677871</td>\n",
       "      <td>0.739364</td>\n",
       "      <td>0.759679</td>\n",
       "      <td>0.576542</td>\n",
       "      <td>0.558360</td>\n",
       "    </tr>\n",
       "    <tr>\n",
       "      <th>HOTUSDT</th>\n",
       "      <td>0.701340</td>\n",
       "      <td>0.521510</td>\n",
       "      <td>0.860169</td>\n",
       "      <td>0.536437</td>\n",
       "      <td>1.499494</td>\n",
       "      <td>0.434392</td>\n",
       "      <td>0.677177</td>\n",
       "      <td>0.370692</td>\n",
       "      <td>0.578098</td>\n",
       "      <td>0.569911</td>\n",
       "      <td>0.802663</td>\n",
       "      <td>0.568386</td>\n",
       "      <td>0.540426</td>\n",
       "      <td>0.741942</td>\n",
       "      <td>0.611637</td>\n",
       "      <td>0.762415</td>\n",
       "      <td>0.473052</td>\n",
       "      <td>0.492529</td>\n",
       "    </tr>\n",
       "    <tr>\n",
       "      <th>LINKUSDT</th>\n",
       "      <td>0.651928</td>\n",
       "      <td>0.571571</td>\n",
       "      <td>0.929391</td>\n",
       "      <td>0.544178</td>\n",
       "      <td>1.660715</td>\n",
       "      <td>0.458974</td>\n",
       "      <td>0.614415</td>\n",
       "      <td>0.387824</td>\n",
       "      <td>0.525517</td>\n",
       "      <td>0.608870</td>\n",
       "      <td>0.568386</td>\n",
       "      <td>1.457523</td>\n",
       "      <td>0.548204</td>\n",
       "      <td>0.734761</td>\n",
       "      <td>0.708181</td>\n",
       "      <td>0.771989</td>\n",
       "      <td>0.507840</td>\n",
       "      <td>0.490309</td>\n",
       "    </tr>\n",
       "    <tr>\n",
       "      <th>LTCUSDT</th>\n",
       "      <td>0.700700</td>\n",
       "      <td>0.603259</td>\n",
       "      <td>1.054562</td>\n",
       "      <td>0.597868</td>\n",
       "      <td>1.571602</td>\n",
       "      <td>0.539980</td>\n",
       "      <td>0.712128</td>\n",
       "      <td>0.411037</td>\n",
       "      <td>0.559081</td>\n",
       "      <td>0.688284</td>\n",
       "      <td>0.540426</td>\n",
       "      <td>0.548204</td>\n",
       "      <td>0.806901</td>\n",
       "      <td>0.673253</td>\n",
       "      <td>0.713407</td>\n",
       "      <td>0.675962</td>\n",
       "      <td>0.558447</td>\n",
       "      <td>0.539240</td>\n",
       "    </tr>\n",
       "    <tr>\n",
       "      <th>MATICUSDT</th>\n",
       "      <td>0.997552</td>\n",
       "      <td>0.704511</td>\n",
       "      <td>1.038786</td>\n",
       "      <td>0.721869</td>\n",
       "      <td>2.072825</td>\n",
       "      <td>0.538658</td>\n",
       "      <td>0.896551</td>\n",
       "      <td>0.398358</td>\n",
       "      <td>0.825029</td>\n",
       "      <td>0.677871</td>\n",
       "      <td>0.741942</td>\n",
       "      <td>0.734761</td>\n",
       "      <td>0.673253</td>\n",
       "      <td>3.007814</td>\n",
       "      <td>0.715614</td>\n",
       "      <td>0.991330</td>\n",
       "      <td>0.534936</td>\n",
       "      <td>0.578632</td>\n",
       "    </tr>\n",
       "    <tr>\n",
       "      <th>OMGUSDT</th>\n",
       "      <td>0.766716</td>\n",
       "      <td>0.646969</td>\n",
       "      <td>1.089541</td>\n",
       "      <td>0.638481</td>\n",
       "      <td>1.754318</td>\n",
       "      <td>0.571585</td>\n",
       "      <td>0.793496</td>\n",
       "      <td>0.429683</td>\n",
       "      <td>0.633826</td>\n",
       "      <td>0.739364</td>\n",
       "      <td>0.611637</td>\n",
       "      <td>0.708181</td>\n",
       "      <td>0.713407</td>\n",
       "      <td>0.715614</td>\n",
       "      <td>0.937115</td>\n",
       "      <td>0.802843</td>\n",
       "      <td>0.626974</td>\n",
       "      <td>0.607861</td>\n",
       "    </tr>\n",
       "    <tr>\n",
       "      <th>RENUSDT</th>\n",
       "      <td>0.848208</td>\n",
       "      <td>0.760284</td>\n",
       "      <td>0.974778</td>\n",
       "      <td>0.756458</td>\n",
       "      <td>2.027288</td>\n",
       "      <td>0.609101</td>\n",
       "      <td>0.821505</td>\n",
       "      <td>0.420840</td>\n",
       "      <td>0.763956</td>\n",
       "      <td>0.759679</td>\n",
       "      <td>0.762415</td>\n",
       "      <td>0.771989</td>\n",
       "      <td>0.675962</td>\n",
       "      <td>0.991330</td>\n",
       "      <td>0.802843</td>\n",
       "      <td>1.518201</td>\n",
       "      <td>0.652900</td>\n",
       "      <td>0.709043</td>\n",
       "    </tr>\n",
       "    <tr>\n",
       "      <th>XRPUSDT</th>\n",
       "      <td>0.590320</td>\n",
       "      <td>0.510173</td>\n",
       "      <td>0.846512</td>\n",
       "      <td>0.479322</td>\n",
       "      <td>1.353632</td>\n",
       "      <td>0.432907</td>\n",
       "      <td>0.652266</td>\n",
       "      <td>0.331735</td>\n",
       "      <td>0.498108</td>\n",
       "      <td>0.576542</td>\n",
       "      <td>0.473052</td>\n",
       "      <td>0.507840</td>\n",
       "      <td>0.558447</td>\n",
       "      <td>0.534936</td>\n",
       "      <td>0.626974</td>\n",
       "      <td>0.652900</td>\n",
       "      <td>0.578166</td>\n",
       "      <td>0.483132</td>\n",
       "    </tr>\n",
       "    <tr>\n",
       "      <th>ZRXUSDT</th>\n",
       "      <td>0.756845</td>\n",
       "      <td>0.572923</td>\n",
       "      <td>0.844809</td>\n",
       "      <td>0.517735</td>\n",
       "      <td>1.420384</td>\n",
       "      <td>0.404845</td>\n",
       "      <td>0.631695</td>\n",
       "      <td>0.349092</td>\n",
       "      <td>0.526718</td>\n",
       "      <td>0.558360</td>\n",
       "      <td>0.492529</td>\n",
       "      <td>0.490309</td>\n",
       "      <td>0.539240</td>\n",
       "      <td>0.578632</td>\n",
       "      <td>0.607861</td>\n",
       "      <td>0.709043</td>\n",
       "      <td>0.483132</td>\n",
       "      <td>0.741084</td>\n",
       "    </tr>\n",
       "  </tbody>\n",
       "</table>\n",
       "</div>"
      ],
      "text/plain": [
       "           BANDUSDT   BATUSDT   BCHUSDT   BNBUSDT   BNTUSDT   BTCUSDT  \\\n",
       "BANDUSDT   2.485259  0.817298  0.856468  0.774730  2.104856  0.540088   \n",
       "BATUSDT    0.817298  0.955419  0.989479  0.611143  1.627362  0.450508   \n",
       "BCHUSDT    0.856468  0.989479  1.663131  0.924659  2.350488  0.785874   \n",
       "BNBUSDT    0.774730  0.611143  0.924659  0.759076  1.556548  0.483058   \n",
       "BNTUSDT    2.104856  1.627362  2.350488  1.556548  4.177136  1.269336   \n",
       "BTCUSDT    0.540088  0.450508  0.785874  0.483058  1.269336  0.537040   \n",
       "CHZUSDT    0.852552  0.796288  0.965232  0.748095  2.005883  0.621447   \n",
       "DOGEUSDT   0.423653  0.380935  0.634285  0.388526  0.986022  0.332114   \n",
       "ENJUSDT    0.816694  0.662918  0.846428  0.583269  1.659860  0.429769   \n",
       "ETHUSDT    0.739493  0.615394  1.025221  0.614714  1.642116  0.566103   \n",
       "HOTUSDT    0.701340  0.521510  0.860169  0.536437  1.499494  0.434392   \n",
       "LINKUSDT   0.651928  0.571571  0.929391  0.544178  1.660715  0.458974   \n",
       "LTCUSDT    0.700700  0.603259  1.054562  0.597868  1.571602  0.539980   \n",
       "MATICUSDT  0.997552  0.704511  1.038786  0.721869  2.072825  0.538658   \n",
       "OMGUSDT    0.766716  0.646969  1.089541  0.638481  1.754318  0.571585   \n",
       "RENUSDT    0.848208  0.760284  0.974778  0.756458  2.027288  0.609101   \n",
       "XRPUSDT    0.590320  0.510173  0.846512  0.479322  1.353632  0.432907   \n",
       "ZRXUSDT    0.756845  0.572923  0.844809  0.517735  1.420384  0.404845   \n",
       "\n",
       "            CHZUSDT  DOGEUSDT   ENJUSDT   ETHUSDT   HOTUSDT  LINKUSDT  \\\n",
       "BANDUSDT   0.852552  0.423653  0.816694  0.739493  0.701340  0.651928   \n",
       "BATUSDT    0.796288  0.380935  0.662918  0.615394  0.521510  0.571571   \n",
       "BCHUSDT    0.965232  0.634285  0.846428  1.025221  0.860169  0.929391   \n",
       "BNBUSDT    0.748095  0.388526  0.583269  0.614714  0.536437  0.544178   \n",
       "BNTUSDT    2.005883  0.986022  1.659860  1.642116  1.499494  1.660715   \n",
       "BTCUSDT    0.621447  0.332114  0.429769  0.566103  0.434392  0.458974   \n",
       "CHZUSDT    2.056706  0.434377  0.775519  0.765888  0.677177  0.614415   \n",
       "DOGEUSDT   0.434377  0.340589  0.354230  0.422901  0.370692  0.387824   \n",
       "ENJUSDT    0.775519  0.354230  1.142890  0.588451  0.578098  0.525517   \n",
       "ETHUSDT    0.765888  0.422901  0.588451  0.763139  0.569911  0.608870   \n",
       "HOTUSDT    0.677177  0.370692  0.578098  0.569911  0.802663  0.568386   \n",
       "LINKUSDT   0.614415  0.387824  0.525517  0.608870  0.568386  1.457523   \n",
       "LTCUSDT    0.712128  0.411037  0.559081  0.688284  0.540426  0.548204   \n",
       "MATICUSDT  0.896551  0.398358  0.825029  0.677871  0.741942  0.734761   \n",
       "OMGUSDT    0.793496  0.429683  0.633826  0.739364  0.611637  0.708181   \n",
       "RENUSDT    0.821505  0.420840  0.763956  0.759679  0.762415  0.771989   \n",
       "XRPUSDT    0.652266  0.331735  0.498108  0.576542  0.473052  0.507840   \n",
       "ZRXUSDT    0.631695  0.349092  0.526718  0.558360  0.492529  0.490309   \n",
       "\n",
       "            LTCUSDT  MATICUSDT   OMGUSDT   RENUSDT   XRPUSDT   ZRXUSDT  \n",
       "BANDUSDT   0.700700   0.997552  0.766716  0.848208  0.590320  0.756845  \n",
       "BATUSDT    0.603259   0.704511  0.646969  0.760284  0.510173  0.572923  \n",
       "BCHUSDT    1.054562   1.038786  1.089541  0.974778  0.846512  0.844809  \n",
       "BNBUSDT    0.597868   0.721869  0.638481  0.756458  0.479322  0.517735  \n",
       "BNTUSDT    1.571602   2.072825  1.754318  2.027288  1.353632  1.420384  \n",
       "BTCUSDT    0.539980   0.538658  0.571585  0.609101  0.432907  0.404845  \n",
       "CHZUSDT    0.712128   0.896551  0.793496  0.821505  0.652266  0.631695  \n",
       "DOGEUSDT   0.411037   0.398358  0.429683  0.420840  0.331735  0.349092  \n",
       "ENJUSDT    0.559081   0.825029  0.633826  0.763956  0.498108  0.526718  \n",
       "ETHUSDT    0.688284   0.677871  0.739364  0.759679  0.576542  0.558360  \n",
       "HOTUSDT    0.540426   0.741942  0.611637  0.762415  0.473052  0.492529  \n",
       "LINKUSDT   0.548204   0.734761  0.708181  0.771989  0.507840  0.490309  \n",
       "LTCUSDT    0.806901   0.673253  0.713407  0.675962  0.558447  0.539240  \n",
       "MATICUSDT  0.673253   3.007814  0.715614  0.991330  0.534936  0.578632  \n",
       "OMGUSDT    0.713407   0.715614  0.937115  0.802843  0.626974  0.607861  \n",
       "RENUSDT    0.675962   0.991330  0.802843  1.518201  0.652900  0.709043  \n",
       "XRPUSDT    0.558447   0.534936  0.626974  0.652900  0.578166  0.483132  \n",
       "ZRXUSDT    0.539240   0.578632  0.607861  0.709043  0.483132  0.741084  "
      ]
     },
     "execution_count": 46,
     "metadata": {},
     "output_type": "execute_result"
    }
   ],
   "source": [
    "S"
   ]
  },
  {
   "cell_type": "code",
   "execution_count": 21,
   "metadata": {},
   "outputs": [],
   "source": [
    "import cvxpy as cp"
   ]
  },
  {
   "cell_type": "code",
   "execution_count": 44,
   "metadata": {},
   "outputs": [],
   "source": [
    "ef = EfficientFrontier(mu, S, solver=cp.ECOS_BB)"
   ]
  },
  {
   "cell_type": "code",
   "execution_count": null,
   "metadata": {},
   "outputs": [],
   "source": [
    "# start_date_ms = int(round(datetime(2021, 9, 1).timestamp() * 1000))\n",
    "# end_date_ms = int(round(datetime(2022, 3, 5).timestamp() * 1000))\n",
    "# df_time = df.loc[start_date_ms:]\n",
    "# df2 = df_time.iloc[-1]\n",
    "# df_symbol_nan = df2[df2.isnull()==True]\n",
    "# list_symbol_nan = df_symbol_nan.reset_index()['index'].to_list()\n",
    "# df_time = df_time[df_time.columns.difference(list_symbol_nan)]\n",
    "# mu = expected_returns.mean_historical_return(df_time, frequency=365)\n",
    "# S = risk_models.sample_cov(df_time)\n",
    "# ef = EfficientFrontier(mu, S, solver=cp.ECOS_BB)"
   ]
  },
  {
   "cell_type": "code",
   "execution_count": 42,
   "metadata": {},
   "outputs": [],
   "source": [
    "def print_weigth(weights):\n",
    "\tfor stock, weight in weights.items():\n",
    "\t\tif float(weight) > 0.0001:\n",
    "\t\t\tprint(stock, weight)"
   ]
  },
  {
   "cell_type": "code",
   "execution_count": 61,
   "metadata": {},
   "outputs": [
    {
     "name": "stdout",
     "output_type": "stream",
     "text": [
      "MANAUSDT 0.2341416757761836\n",
      "SHIBUSDT 0.7658583132685507\n"
     ]
    }
   ],
   "source": [
    "\n",
    "weight_max_sharpe = ef.max_sharpe(risk_free_rate=0.2)\n",
    "print_weigth(weight_max_sharpe)"
   ]
  },
  {
   "cell_type": "code",
   "execution_count": 52,
   "metadata": {},
   "outputs": [
    {
     "name": "stdout",
     "output_type": "stream",
     "text": [
      "BNBUSDT 0.0145203035978118\n",
      "BTCUSDT 0.8970294252927579\n",
      "KNCUSDT 0.0459266801990651\n",
      "MANAUSDT 0.0025699543783543\n",
      "MKRUSDT 0.0295246713412926\n",
      "XRPUSDT 0.0104289651907183\n"
     ]
    }
   ],
   "source": [
    "weight_min_volatility = ef.min_volatility()\n",
    "print_weigth(weight_min_volatility)"
   ]
  },
  {
   "cell_type": "code",
   "execution_count": 25,
   "metadata": {},
   "outputs": [
    {
     "data": {
      "text/plain": [
       "OrderedDict([('1INCHUSDT', 0.0),\n",
       "             ('AAVEUSDT', 0.0),\n",
       "             ('ANTUSDT', 0.0),\n",
       "             ('BALUSDT', 0.0),\n",
       "             ('BANDUSDT', 0.0),\n",
       "             ('BATUSDT', 0.0),\n",
       "             ('BCHUSDT', 0.0),\n",
       "             ('BNBUSDT', 0.0),\n",
       "             ('BNTUSDT', 0.0),\n",
       "             ('BTCUSDT', 0.0),\n",
       "             ('CAKEUSDT', 0.0),\n",
       "             ('CHZUSDT', 0.0),\n",
       "             ('COMPUSDT', 0.0),\n",
       "             ('CRVUSDT', 0.0),\n",
       "             ('DOGEUSDT', 0.0),\n",
       "             ('ENJUSDT', 0.0),\n",
       "             ('ETHUSDT', 0.0),\n",
       "             ('GRTUSDT', 0.0),\n",
       "             ('HOTUSDT', 0.0),\n",
       "             ('KNCUSDT', 0.0),\n",
       "             ('LINKUSDT', 0.0),\n",
       "             ('LRCUSDT', 0.0),\n",
       "             ('LTCUSDT', 0.0),\n",
       "             ('MANAUSDT', 0.0),\n",
       "             ('MATICUSDT', 0.0),\n",
       "             ('MKRUSDT', 0.0),\n",
       "             ('OCEANUSDT', 0.0),\n",
       "             ('OMGUSDT', 0.0),\n",
       "             ('RENUSDT', 0.0),\n",
       "             ('REPUSDT', 0.0),\n",
       "             ('SHIBUSDT', 0.0),\n",
       "             ('SNXUSDT', 0.0),\n",
       "             ('SRMUSDT', 0.0),\n",
       "             ('SUSHIUSDT', 0.0),\n",
       "             ('UMAUSDT', 1.0),\n",
       "             ('UNIUSDT', 0.0),\n",
       "             ('XRPUSDT', 0.0),\n",
       "             ('YFIUSDT', 0.0),\n",
       "             ('ZRXUSDT', 0.0)])"
      ]
     },
     "execution_count": 25,
     "metadata": {},
     "output_type": "execute_result"
    }
   ],
   "source": [
    "cleaned_weight = ef.clean_weights()\n",
    "cleaned_weight"
   ]
  },
  {
   "cell_type": "code",
   "execution_count": 26,
   "metadata": {},
   "outputs": [
    {
     "name": "stderr",
     "output_type": "stream",
     "text": [
      "p:\\Project\\FI\\lib\\site-packages\\pypfopt\\efficient_frontier\\efficient_frontier.py:404: UserWarning: The risk_free_rate provided to portfolio_performance is different to the one used by max_sharpe. Using the previous value.\n",
      "  warnings.warn(\n"
     ]
    },
    {
     "data": {
      "text/plain": [
       "(166.69571649643285, 1.903738818486017, 87.4572262117561)"
      ]
     },
     "execution_count": 26,
     "metadata": {},
     "output_type": "execute_result"
    }
   ],
   "source": [
    "ear_v_sharpe = ef.portfolio_performance()\n",
    "ear_v_sharpe"
   ]
  },
  {
   "cell_type": "code",
   "execution_count": 23,
   "metadata": {},
   "outputs": [
    {
     "data": {
      "text/plain": [
       "array([ 0.2963221 , -0.33466074,  1.21856223, -0.16211655, -0.28595495,\n",
       "        1.09725918,  0.57711261,  0.16114926,  2.07033481,  1.69851322,\n",
       "        1.20477912, -0.65125423,  2.56431045, -0.33157152, -0.48949558,\n",
       "        2.71101931,  1.07597959,  1.70988337,  1.42202861,  0.58294493,\n",
       "        0.51774643,  2.2270244 ,  2.17900582,  0.268893  , 10.13122087,\n",
       "        6.21063022,  1.21854698, -0.08877578,  0.28961067,  1.66911471,\n",
       "       -0.02907489, -0.33438499,  0.1595545 ,  0.14046851, -0.48583803,\n",
       "       -0.27705775,  0.96604316,  0.32826224,  1.18520564])"
      ]
     },
     "execution_count": 23,
     "metadata": {},
     "output_type": "execute_result"
    }
   ],
   "source": [
    "ef.expected_returns"
   ]
  },
  {
   "cell_type": "code",
   "execution_count": 17,
   "metadata": {},
   "outputs": [
    {
     "data": {
      "image/png": "[encoded data removed]",
      "text/plain": [
       "<Figure size 432x288 with 1 Axes>"
      ]
     },
     "metadata": {
      "needs_background": "light"
     },
     "output_type": "display_data"
    },
    {
     "data": {
      "text/plain": [
       "<AxesSubplot:xlabel='Volatility', ylabel='Return'>"
      ]
     },
     "execution_count": 17,
     "metadata": {},
     "output_type": "execute_result"
    }
   ],
   "source": [
    "risk_range = np.linspace(0.10, 0.40, 100)\n",
    "plotting.plot_efficient_frontier(ef, ef_param=\"risk\", ef_param_range=risk_range,\n",
    "                                show_assets=True, showfig=True)"
   ]
  },
  {
   "cell_type": "code",
   "execution_count": 27,
   "metadata": {},
   "outputs": [],
   "source": [
    "import matplotlib.pyplot as plt"
   ]
  },
  {
   "cell_type": "code",
   "execution_count": 37,
   "metadata": {},
   "outputs": [
    {
     "data": {
      "image/png": "[encoded data removed]",
      "text/plain": [
       "<Figure size 432x288 with 1 Axes>"
      ]
     },
     "metadata": {
      "needs_background": "light"
     },
     "output_type": "display_data"
    }
   ],
   "source": [
    "fig, ax = plt.subplots()\n",
    "plotting.plot_efficient_frontier(ef, ax=ax, show_assets=False)\n",
    "\n",
    "# Find the tangency portfolio\n",
    "ef.max_sharpe()\n",
    "ret_tangent, std_tangent, _ = ef.portfolio_performance()\n",
    "ax.scatter(std_tangent, ret_tangent, marker=\"*\", s=100, c=\"r\", label=\"Max Sharpe\")\n",
    "\n",
    "# Generate random portfolios\n",
    "n_samples = 10000\n",
    "w = np.random.dirichlet(np.ones(len(mu)), n_samples)\n",
    "rets = w.dot(mu)\n",
    "stds = np.sqrt(np.diag(w @ S @ w.T))\n",
    "sharpes = rets / stds\n",
    "ax.scatter(stds, rets, marker=\".\", c=sharpes, cmap=\"viridis_r\")\n",
    "\n",
    "# Output\n",
    "ax.set_title(\"Efficient Frontier with random portfolios\")\n",
    "ax.legend()\n",
    "plt.tight_layout()\n",
    "plt.savefig(\"ef_scatter.png\", dpi=200)\n",
    "plt.show()"
   ]
  },
  {
   "cell_type": "code",
   "execution_count": 40,
   "metadata": {},
   "outputs": [
    {
     "data": {
      "image/png": "[encoded data removed]",
      "text/plain": [
       "<Figure size 432x288 with 1 Axes>"
      ]
     },
     "metadata": {
      "needs_background": "light"
     },
     "output_type": "display_data"
    }
   ],
   "source": [
    "fig, ax = plt.subplots()\n",
    "plotting.plot_efficient_frontier(ef, ax=ax, show_assets=True)\n",
    "for i, txt in enumerate(ef.tickers):\n",
    "\tax.annotate(txt, ((np.diag(ef.cov_matrix)**(1/2))[i], ef.expected_returns[i]))"
   ]
  }
 ],
 "metadata": {
  "interpreter": {
   "hash": "090e28cfce72f700dc36bb0ecf6ceb4bf9acea9ea7a428b52d95108d3b08c90b"
  },
  "kernelspec": {
   "display_name": "Python 3.8.9 64-bit ('FI': venv)",
   "language": "python",
   "name": "python3"
  },
  "language_info": {
   "codemirror_mode": {
    "name": "ipython",
    "version": 3
   },
   "file_extension": ".py",
   "mimetype": "text/x-python",
   "name": "python",
   "nbconvert_exporter": "python",
   "pygments_lexer": "ipython3",
   "version": "3.8.9"
  },
  "orig_nbformat": 4
 },
 "nbformat": 4,
 "nbformat_minor": 2
}
